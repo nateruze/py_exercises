{
 "cells": [
  {
   "cell_type": "markdown",
   "id": "7e11613e",
   "metadata": {},
   "source": [
    "# Python Exercises (Beginner-Intermediate)"
   ]
  },
  {
   "cell_type": "code",
   "execution_count": 3,
   "id": "6f01efa8",
   "metadata": {},
   "outputs": [],
   "source": [
    "import sys"
   ]
  },
  {
   "cell_type": "markdown",
   "id": "0cc91b09",
   "metadata": {},
   "source": [
    "#### Let's start with printing out \"Hello World!\" as a rite of passage."
   ]
  },
  {
   "cell_type": "code",
   "execution_count": 4,
   "id": "0d7d8c42",
   "metadata": {},
   "outputs": [
    {
     "name": "stdout",
     "output_type": "stream",
     "text": [
      "Hello World!\n"
     ]
    }
   ],
   "source": [
    "print(\"Hello World!\")"
   ]
  },
  {
   "cell_type": "markdown",
   "id": "23e3a45a",
   "metadata": {},
   "source": [
    "#### IFs and LOOPS"
   ]
  },
  {
   "cell_type": "markdown",
   "id": "93f6fd5d",
   "metadata": {},
   "source": [
    "Ex 1. Write a function that takes in any integer i between 0 and 20, and outputs the square of all integers n where n <= i"
   ]
  },
  {
   "cell_type": "code",
   "execution_count": 22,
   "id": "7a593c6b",
   "metadata": {},
   "outputs": [],
   "source": [
    "def num_sqr():\n",
    "    try:\n",
    "        n = int(input(\"Enter an integer between 0 and 20: \"))\n",
    "    except ValueError:\n",
    "        print(\"Input must be an integer\")\n",
    "    \n",
    "    if n >= 1 and n <= 20:\n",
    "        for i in range(n):\n",
    "            print(i*i)\n",
    "    else:\n",
    "        raise ValueError(\"Input out of range\")\n",
    "        \n",
    "        "
   ]
  },
  {
   "cell_type": "code",
   "execution_count": 23,
   "id": "811fd69b",
   "metadata": {},
   "outputs": [
    {
     "name": "stdout",
     "output_type": "stream",
     "text": [
      "Enter an integer between 0 and 20: 5\n",
      "0\n",
      "1\n",
      "4\n",
      "9\n",
      "16\n"
     ]
    }
   ],
   "source": [
    "num_sqr()"
   ]
  },
  {
   "cell_type": "markdown",
   "id": "1ed3937b",
   "metadata": {},
   "source": [
    "Ex 2. Find the runner-up score"
   ]
  },
  {
   "cell_type": "code",
   "execution_count": 30,
   "id": "2602e573",
   "metadata": {},
   "outputs": [],
   "source": [
    "def ru_score():\n",
    "    arr = map(int, input(\"Enter scores separated by space: \").split())\n",
    "   \n",
    "    arr_sorted = sorted(arr, reverse=True)\n",
    "    max_score = arr_sorted[0]\n",
    "    \n",
    "    \n",
    "    for i in range(1, len(arr_sorted)):\n",
    "        if arr_sorted[i] < max_score:\n",
    "            ru_score = arr_sorted[i]\n",
    "            break\n",
    "    print(\"The runner up score is: \" + str(ru_score))\n",
    "    "
   ]
  },
  {
   "cell_type": "code",
   "execution_count": 31,
   "id": "1ef415b9",
   "metadata": {},
   "outputs": [
    {
     "name": "stdout",
     "output_type": "stream",
     "text": [
      "Enter scores separated by space: 5 44 555 878 90\n",
      "The runner up score is: 555\n"
     ]
    }
   ],
   "source": [
    "ru_score()"
   ]
  },
  {
   "cell_type": "markdown",
   "id": "4bb93c6e",
   "metadata": {},
   "source": [
    "#### Nested Lists and Bubble Sort"
   ]
  },
  {
   "cell_type": "markdown",
   "id": "f80c6c52",
   "metadata": {},
   "source": [
    "Ex 3. Given the names and grades for each student in a class of N students, store them in a nested list and print the name(s) of any student(s) having the second lowest grade. If there are multiple students with the second lowest grade, order their names alphabetically and print each name on a new line."
   ]
  },
  {
   "cell_type": "code",
   "execution_count": 36,
   "id": "6d2327e8",
   "metadata": {},
   "outputs": [],
   "source": [
    "def second_lowest_score():\n",
    "    \n",
    "    main_lst = []\n",
    "    \n",
    "    for _ in range(int(input(\"Enter number of total students N: \"))):\n",
    "        temp_lst = []\n",
    "        name = input(\"Enter name: \")\n",
    "        temp_lst.append(name)\n",
    "        score = float(input(\"Enter score: \"))\n",
    "        temp_lst.append(score)\n",
    "        main_lst.append(temp_lst)\n",
    "    \n",
    "    main_lst.sort(key = lambda x: x[1])\n",
    "    \n",
    "    \n",
    "    lowest_score = main_lst[0][1]\n",
    "    i = 1\n",
    "    while i < len(main_lst):\n",
    "        if main_lst[i][1] > lowest_score:\n",
    "            second_lowest = main_lst[i][1]\n",
    "            break\n",
    "        else:\n",
    "            continue\n",
    "    \n",
    "    names_second_lowest = []\n",
    "    for i in range(len(main_lst)):\n",
    "        if main_lst[i][1] == second_lowest:\n",
    "            names_second_lowest.append(main_lst[i][0])\n",
    "    \n",
    "    names_second_lowest.sort()\n",
    "    for n in names_second_lowest:\n",
    "        print(n)\n",
    "        \n",
    "   \n",
    "        \n"
   ]
  },
  {
   "cell_type": "code",
   "execution_count": 37,
   "id": "ec1c2ceb",
   "metadata": {},
   "outputs": [
    {
     "name": "stdout",
     "output_type": "stream",
     "text": [
      "Enter number of total students N: 2\n",
      "Enter name: nash\n",
      "Enter score: 50\n",
      "Enter name: fairuz\n",
      "Enter score: 51\n",
      "fairuz\n"
     ]
    }
   ],
   "source": [
    "second_lowest_score()"
   ]
  },
  {
   "cell_type": "markdown",
   "id": "ec5d1620",
   "metadata": {},
   "source": [
    "Ex 4. Repeat ex 3 using bubble sort"
   ]
  },
  {
   "cell_type": "code",
   "execution_count": null,
   "id": "7dd22897",
   "metadata": {},
   "outputs": [],
   "source": []
  }
 ],
 "metadata": {
  "kernelspec": {
   "display_name": "Python 3 (ipykernel)",
   "language": "python",
   "name": "python3"
  },
  "language_info": {
   "codemirror_mode": {
    "name": "ipython",
    "version": 3
   },
   "file_extension": ".py",
   "mimetype": "text/x-python",
   "name": "python",
   "nbconvert_exporter": "python",
   "pygments_lexer": "ipython3",
   "version": "3.9.7"
  }
 },
 "nbformat": 4,
 "nbformat_minor": 5
}
